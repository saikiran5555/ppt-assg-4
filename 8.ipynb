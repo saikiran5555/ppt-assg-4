{
 "cells": [
  {
   "cell_type": "code",
   "execution_count": 1,
   "id": "0c6a3394",
   "metadata": {},
   "outputs": [
    {
     "name": "stdout",
     "output_type": "stream",
     "text": [
      "[2, 3, 5, 4, 1, 7]\n"
     ]
    }
   ],
   "source": [
    "def rearrangeArray(nums, n):\n",
    "    result = []\n",
    "    i = 0\n",
    "    j = n\n",
    "\n",
    "    while i < n:\n",
    "        result.append(nums[i])\n",
    "        result.append(nums[j])\n",
    "        i += 1\n",
    "        j += 1\n",
    "\n",
    "    return result\n",
    "nums = [2, 5, 1, 3, 4, 7]\n",
    "n = 3\n",
    "print(rearrangeArray(nums, n))\n"
   ]
  },
  {
   "cell_type": "code",
   "execution_count": null,
   "id": "067be7ba",
   "metadata": {},
   "outputs": [],
   "source": []
  }
 ],
 "metadata": {
  "kernelspec": {
   "display_name": "Python 3 (ipykernel)",
   "language": "python",
   "name": "python3"
  },
  "language_info": {
   "codemirror_mode": {
    "name": "ipython",
    "version": 3
   },
   "file_extension": ".py",
   "mimetype": "text/x-python",
   "name": "python",
   "nbconvert_exporter": "python",
   "pygments_lexer": "ipython3",
   "version": "3.10.9"
  }
 },
 "nbformat": 4,
 "nbformat_minor": 5
}
