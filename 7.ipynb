{
 "cells": [
  {
   "cell_type": "code",
   "execution_count": 1,
   "id": "f53759c0",
   "metadata": {},
   "outputs": [
    {
     "name": "stdout",
     "output_type": "stream",
     "text": [
      "4\n"
     ]
    }
   ],
   "source": [
    "def maxCount(m, n, ops):\n",
    "    min_rows = m\n",
    "    min_cols = n\n",
    "\n",
    "    for op in ops:\n",
    "        min_rows = min(min_rows, op[0])\n",
    "        min_cols = min(min_cols, op[1])\n",
    "\n",
    "    return min_rows * min_cols\n",
    "m = 3\n",
    "n = 3\n",
    "ops = [[2, 2], [3, 3]]\n",
    "print(maxCount(m, n, ops))\n"
   ]
  },
  {
   "cell_type": "code",
   "execution_count": null,
   "id": "1533fefb",
   "metadata": {},
   "outputs": [],
   "source": []
  }
 ],
 "metadata": {
  "kernelspec": {
   "display_name": "Python 3 (ipykernel)",
   "language": "python",
   "name": "python3"
  },
  "language_info": {
   "codemirror_mode": {
    "name": "ipython",
    "version": 3
   },
   "file_extension": ".py",
   "mimetype": "text/x-python",
   "name": "python",
   "nbconvert_exporter": "python",
   "pygments_lexer": "ipython3",
   "version": "3.10.9"
  }
 },
 "nbformat": 4,
 "nbformat_minor": 5
}
